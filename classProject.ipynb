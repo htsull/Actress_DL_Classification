{
  "cells": [
    {
      "cell_type": "markdown",
      "metadata": {},
      "source": [
        "#### <center>======================================================================================</center>\n",
        "# <center>**Université Paris 1 Panthéon-Sorbonne**</center>\n",
        "## <center>Projet de Deep Learning</center>\n",
        "### <center>*Présenté par :* </center>\n",
        "<center>Berthony Sully</center>\n",
        "\n",
        "### <center>Au professeur : **Joseph Rynkiewicz** </center>\n",
        "\n",
        "<center>31 Juillet 2022</center>\n",
        "\n",
        "#### <center>======================================================================================</center>\n",
        "\n"
      ]
    },
    {
      "cell_type": "markdown",
      "metadata": {},
      "source": [
        "# Résumé"
      ]
    },
    {
      "cell_type": "markdown",
      "metadata": {},
      "source": [
        "Dans ce projet, nous devons réaliser une classification d'images concernant de 3 groupes d'actrices dont deux d'entre eux sont connues pour être des sosies (Natalie Portman et Kiera Nightley). Pour y arriver, nous avons utilisé les CNNs et procédé à certaines opérations en utilisant la framework Pytorch. \n",
        "\n",
        "Pour effectuer ce travail, nous disposons d'un dossier d'images conprenant deux sous dossiers:\n",
        "- `train` qui comprend 429 images \n",
        "- `val` qui comprend 168 images\n",
        "Chacun de ces sous dossiers comprennent eux-mêmes trois sous dossiers dans lesquels sont classés les images en trois classes (`Natalie`, `Kiera`, `Autres`) de format 530x400 pixels.\n",
        "\n",
        "Ce travail comprend deux grandes parties :\n",
        "1. La construction d'un réseau avec une configuration experimentale.\n",
        "2. L'utlisation du le Transfer Learning pour améliorer la classification.\n",
        "\n",
        "Pour la première partie, nous avons developpé des modèles simples et aussi des modèles assez compliqués qui demandent beaucoup de ressources pour s'entrainer. Nous avons aussi transformé et standardisé les images pour les deux procédures.\n",
        "\n",
        "Parmi nos modèles définis, celui qui a été le plus performant a été spécifié comme suit :  `config0 = [64,\"M\", 256, \"M\", 512, \"M\"]`. Ce modèle nous a permis d'avoir une accuracy de `55.7%` sur l'ensemble d'entrainement et de `40.5%` sur l'ensemble de validation. Ce qui parait assez pauvre comme résultat mais ce sont les meilleurs résultats qu'on a pu trouver avec toutes ces configurations dont nous avons definies.\n",
        "\n",
        "En ce qui a trait au tranfer learning, on a pu essayer beaucoup de modèles comme `efficientNet(b0 à b7), ResNet18, ResNet152 et Inception3`. Le résultats dont nous avons trouvé indiquent que le modèle ResNet18 a été le plus adapté pour résoudre ce problème avec `60.7%` d'accuracy sur les données de validation.\n"
      ]
    },
    {
      "cell_type": "markdown",
      "metadata": {},
      "source": [
        "# Modèles définis"
      ]
    },
    {
      "cell_type": "code",
      "execution_count": 41,
      "metadata": {
        "execution": {
          "iopub.execute_input": "2022-05-04T14:54:14.210556Z",
          "iopub.status.busy": "2022-05-04T14:54:14.209405Z",
          "iopub.status.idle": "2022-05-04T14:54:15.755322Z",
          "shell.execute_reply": "2022-05-04T14:54:15.754033Z",
          "shell.execute_reply.started": "2022-05-04T14:54:14.210493Z"
        },
        "id": "JS4Dg4rwO3Ar",
        "trusted": true
      },
      "outputs": [],
      "source": [
        "# Importation des outils\n",
        "from __future__ import print_function\n",
        "import torch\n",
        "import torch.nn as nn\n",
        "import torch.optim as optim\n",
        "from torch.optim import lr_scheduler\n",
        "import torchvision\n",
        "import torchvision.transforms as transforms\n",
        "import os\n",
        "import numpy as np\n",
        "from tqdm import tqdm\n",
        "from torchsummary import summary"
      ]
    },
    {
      "cell_type": "code",
      "execution_count": 42,
      "metadata": {
        "colab": {
          "base_uri": "https://localhost:8080/",
          "height": 397
        },
        "execution": {
          "iopub.execute_input": "2022-05-04T14:54:15.757974Z",
          "iopub.status.busy": "2022-05-04T14:54:15.757704Z",
          "iopub.status.idle": "2022-05-04T14:54:15.766408Z",
          "shell.execute_reply": "2022-05-04T14:54:15.765735Z",
          "shell.execute_reply.started": "2022-05-04T14:54:15.757941Z"
        },
        "id": "hvxZPjWsPiQk",
        "outputId": "7e3bcdb0-2aef-4084-fa62-d24d19cd8d7e",
        "trusted": true
      },
      "outputs": [],
      "source": [
        "# Verifier s'il existe un GPU\n",
        "device = 'cuda' if torch.cuda.is_available() else 'cpu'\n",
        "# Pour avoir une experience reproductible\n",
        "torch.manual_seed(0)\n",
        "np.random.seed(0)"
      ]
    },
    {
      "cell_type": "code",
      "execution_count": 43,
      "metadata": {
        "execution": {
          "iopub.execute_input": "2022-05-04T14:54:15.768275Z",
          "iopub.status.busy": "2022-05-04T14:54:15.767640Z",
          "iopub.status.idle": "2022-05-04T14:54:15.973757Z",
          "shell.execute_reply": "2022-05-04T14:54:15.973073Z",
          "shell.execute_reply.started": "2022-05-04T14:54:15.768213Z"
        },
        "id": "bWPm_sSgP1ns",
        "trusted": true
      },
      "outputs": [],
      "source": [
        "# Parametres de standardisation\n",
        "mean = np.array([0.5, 0.5, 0.5])\n",
        "std = np.array([0.25, 0.25, 0.25])\n",
        "\n",
        "# Methode de transformation\n",
        "train_transform = transforms.Compose([\n",
        "        transforms.Resize((224, 224)),\n",
        "        transforms.RandomHorizontalFlip(),\n",
        "        transforms.ToTensor(),\n",
        "        transforms.Normalize(mean, std)\n",
        "])\n",
        "val_transform = transforms.Compose([\n",
        "        transforms.Resize((224, 224)),\n",
        "        transforms.RandomResizedCrop(224),\n",
        "        transforms.RandomHorizontalFlip(),\n",
        "        transforms.ToTensor(),\n",
        "        transforms.Normalize(mean, std)\n",
        "])\n",
        "\n",
        "\n",
        "trainset = 'data/train'\n",
        "validset = 'data/val'\n",
        "\n",
        "# Création des'ensembles d'entrainement et de validation\n",
        "train_data = torchvision.datasets.ImageFolder(trainset, transform=train_transform)\n",
        "val_data = torchvision.datasets.ImageFolder(validset, transform=val_transform)"
      ]
    },
    {
      "cell_type": "code",
      "execution_count": 44,
      "metadata": {
        "execution": {
          "iopub.execute_input": "2022-05-04T14:54:15.976125Z",
          "iopub.status.busy": "2022-05-04T14:54:15.975242Z",
          "iopub.status.idle": "2022-05-04T14:54:15.981994Z",
          "shell.execute_reply": "2022-05-04T14:54:15.980750Z",
          "shell.execute_reply.started": "2022-05-04T14:54:15.976081Z"
        },
        "id": "qIJ06eean9-0",
        "trusted": true
      },
      "outputs": [],
      "source": [
        "# Definition des loaders\n",
        "train_loader = torch.utils.data.DataLoader(train_data, batch_size=32, shuffle=True)\n",
        "val_loader = torch.utils.data.DataLoader(val_data, batch_size=16, shuffle=False)"
      ]
    },
    {
      "cell_type": "code",
      "execution_count": 45,
      "metadata": {
        "colab": {
          "base_uri": "https://localhost:8080/"
        },
        "execution": {
          "iopub.execute_input": "2022-05-04T14:54:15.983948Z",
          "iopub.status.busy": "2022-05-04T14:54:15.983528Z",
          "iopub.status.idle": "2022-05-04T14:54:16.001058Z",
          "shell.execute_reply": "2022-05-04T14:54:16.000037Z",
          "shell.execute_reply.started": "2022-05-04T14:54:15.983908Z"
        },
        "id": "JxHKTRAPn9-0",
        "outputId": "b4a84ab8-8590-49ea-8f2c-7c6c3c1da085",
        "trusted": true
      },
      "outputs": [
        {
          "data": {
            "text/plain": [
              "[Dataset ImageFolder\n",
              "     Number of datapoints: 429\n",
              "     Root location: data/train\n",
              "     StandardTransform\n",
              " Transform: Compose(\n",
              "                Resize(size=(224, 224), interpolation=bilinear, max_size=None, antialias=None)\n",
              "                RandomHorizontalFlip(p=0.5)\n",
              "                ToTensor()\n",
              "                Normalize(mean=[0.5 0.5 0.5], std=[0.25 0.25 0.25])\n",
              "            ),\n",
              " Dataset ImageFolder\n",
              "     Number of datapoints: 168\n",
              "     Root location: data/val\n",
              "     StandardTransform\n",
              " Transform: Compose(\n",
              "                Resize(size=(224, 224), interpolation=bilinear, max_size=None, antialias=None)\n",
              "                RandomResizedCrop(size=(224, 224), scale=(0.08, 1.0), ratio=(0.75, 1.3333), interpolation=bilinear)\n",
              "                RandomHorizontalFlip(p=0.5)\n",
              "                ToTensor()\n",
              "                Normalize(mean=[0.5 0.5 0.5], std=[0.25 0.25 0.25])\n",
              "            )]"
            ]
          },
          "execution_count": 45,
          "metadata": {},
          "output_type": "execute_result"
        }
      ],
      "source": [
        "# verification des caracteristtiques des donnees\n",
        "[train_data, val_data]"
      ]
    },
    {
      "cell_type": "code",
      "execution_count": 47,
      "metadata": {
        "id": "xzwil-9A7SXj"
      },
      "outputs": [],
      "source": [
        "# configuration des modèles\n",
        "config0 = [64,\"M\", 256, \"M\", 512, \"M\"]\n",
        "\n",
        "config1 = [64, 'M', 128, 'M', 256, 256, 'M', 512, 512, 'M', 512, 512, 'M', 256, 128, 64, 32]\n",
        "\n",
        "config2 = [64, 'M', 128, 'M', 256, 256, 'M', 512,'M', 512, 'M']\n",
        "\n",
        "config3 = [64, 64, 'M', 128, 128, 'M', 256, 256, 'M', 512, 512, 'M', 512, 512, 'M']\n",
        "\n",
        "config4 = [64, 64, 'M', 128, 128, 'M', 256, 256, 256, 'M', 512, 512, 512,'M', 512, 512, 512, 'M']"
      ]
    },
    {
      "cell_type": "code",
      "execution_count": 48,
      "metadata": {
        "execution": {
          "iopub.execute_input": "2022-05-04T15:10:13.261008Z",
          "iopub.status.busy": "2022-05-04T15:10:13.260059Z",
          "iopub.status.idle": "2022-05-04T15:10:13.275692Z",
          "shell.execute_reply": "2022-05-04T15:10:13.274370Z",
          "shell.execute_reply.started": "2022-05-04T15:10:13.260921Z"
        },
        "id": "1WMAYI0An9-1",
        "trusted": true
      },
      "outputs": [],
      "source": [
        "class VGG(nn.Module):\n",
        "    def __init__(self,architecture):\n",
        "        super(VGG, self).__init__()\n",
        "        self.layers = self.make_layers(architecture)\n",
        "        self.classifier = nn.Linear(512*28*28, 3)\n",
        "\n",
        "    def forward(self,x):\n",
        "        x = self.layers(x)\n",
        "        x = x.view(x.size(0),-1)\n",
        "        return self.classifier(x)\n",
        "        \n",
        "    def make_layers(self,architecture):\n",
        "        layers = []\n",
        "        in_channels = 3\n",
        "        for x in architecture:\n",
        "            if x=='M':\n",
        "                layers += [nn.MaxPool2d(kernel_size=2, stride=2)]\n",
        "            else:\n",
        "                layers += [nn.Conv2d(in_channels, x, kernel_size=2, padding=1),\n",
        "                           nn.BatchNorm2d(x),\n",
        "                           nn.Softmax()]\n",
        "                in_channels = x\n",
        "        return nn.Sequential(*layers)"
      ]
    },
    {
      "cell_type": "code",
      "execution_count": 49,
      "metadata": {
        "execution": {
          "iopub.execute_input": "2022-05-04T15:09:19.329817Z",
          "iopub.status.busy": "2022-05-04T15:09:19.328866Z",
          "iopub.status.idle": "2022-05-04T15:09:19.378332Z",
          "shell.execute_reply": "2022-05-04T15:09:19.376149Z",
          "shell.execute_reply.started": "2022-05-04T15:09:19.329758Z"
        },
        "id": "lZf57sSpn9-2",
        "trusted": true
      },
      "outputs": [],
      "source": [
        "net = VGG(config0)\n",
        "\n",
        "net = net.to(device)"
      ]
    },
    {
      "cell_type": "code",
      "execution_count": 50,
      "metadata": {
        "id": "aivxI9iB8yPE"
      },
      "outputs": [
        {
          "name": "stderr",
          "output_type": "stream",
          "text": [
            "c:\\Users\\bsully\\Anaconda3\\lib\\site-packages\\torch\\nn\\modules\\container.py:141: UserWarning: Implicit dimension choice for softmax has been deprecated. Change the call to include dim=X as an argument.\n",
            "  input = module(input)\n"
          ]
        },
        {
          "name": "stdout",
          "output_type": "stream",
          "text": [
            "----------------------------------------------------------------\n",
            "        Layer (type)               Output Shape         Param #\n",
            "================================================================\n",
            "            Conv2d-1         [-1, 64, 225, 225]             832\n",
            "       BatchNorm2d-2         [-1, 64, 225, 225]             128\n",
            "           Softmax-3         [-1, 64, 225, 225]               0\n",
            "         MaxPool2d-4         [-1, 64, 112, 112]               0\n",
            "            Conv2d-5        [-1, 256, 113, 113]          65,792\n",
            "       BatchNorm2d-6        [-1, 256, 113, 113]             512\n",
            "           Softmax-7        [-1, 256, 113, 113]               0\n",
            "         MaxPool2d-8          [-1, 256, 56, 56]               0\n",
            "            Conv2d-9          [-1, 512, 57, 57]         524,800\n",
            "      BatchNorm2d-10          [-1, 512, 57, 57]           1,024\n",
            "          Softmax-11          [-1, 512, 57, 57]               0\n",
            "        MaxPool2d-12          [-1, 512, 28, 28]               0\n",
            "           Linear-13                    [-1, 3]       1,204,227\n",
            "================================================================\n",
            "Total params: 1,797,315\n",
            "Trainable params: 1,797,315\n",
            "Non-trainable params: 0\n",
            "----------------------------------------------------------------\n",
            "Input size (MB): 0.57\n",
            "Forward/backward pass size (MB): 202.36\n",
            "Params size (MB): 6.86\n",
            "Estimated Total Size (MB): 209.79\n",
            "----------------------------------------------------------------\n"
          ]
        }
      ],
      "source": [
        "summary(net, (3, 224, 224))"
      ]
    },
    {
      "cell_type": "code",
      "execution_count": 51,
      "metadata": {
        "execution": {
          "iopub.execute_input": "2022-05-04T15:09:20.932936Z",
          "iopub.status.busy": "2022-05-04T15:09:20.932134Z",
          "iopub.status.idle": "2022-05-04T15:09:20.939458Z",
          "shell.execute_reply": "2022-05-04T15:09:20.938384Z",
          "shell.execute_reply.started": "2022-05-04T15:09:20.932877Z"
        },
        "id": "v0fKybo4n9-2",
        "trusted": true
      },
      "outputs": [],
      "source": [
        "criterion = nn.CrossEntropyLoss()\n",
        "optimizer = optim.SGD(net.parameters(), lr=.001, momentum=0.9)\n",
        "lr_sc = lr_scheduler.StepLR(optimizer=optimizer, step_size=5)"
      ]
    },
    {
      "cell_type": "code",
      "execution_count": 52,
      "metadata": {
        "execution": {
          "iopub.execute_input": "2022-05-04T15:09:23.928798Z",
          "iopub.status.busy": "2022-05-04T15:09:23.928152Z",
          "iopub.status.idle": "2022-05-04T15:09:23.938993Z",
          "shell.execute_reply": "2022-05-04T15:09:23.937631Z",
          "shell.execute_reply.started": "2022-05-04T15:09:23.928738Z"
        },
        "id": "YX0LwcHwn9-3",
        "trusted": true
      },
      "outputs": [],
      "source": [
        "# Training\n",
        "def train(epoch,trainloader):\n",
        "    net.train()\n",
        "    train_loss = 0\n",
        "    correct = 0\n",
        "    total = 0\n",
        "    loop = tqdm(enumerate(trainloader), total=len(trainloader))\n",
        "    for batch_idx, (inputs, targets) in loop:\n",
        "        inputs, targets = inputs.to(device), targets.to(device)\n",
        "        optimizer.zero_grad()\n",
        "        outputs = net(inputs)\n",
        "        loss = criterion(outputs, targets)\n",
        "        loss.backward()\n",
        "        optimizer.step()\n",
        "        train_loss += loss.item()\n",
        "        _, predicted = outputs.max(1)\n",
        "        total += targets.size(0)\n",
        "        correct += predicted.eq(targets).sum().item()\n",
        "        loop.set_description(f\"Epoch [{epoch}]\")\n",
        "        loop.set_postfix(acc=correct/total)"
      ]
    },
    {
      "cell_type": "code",
      "execution_count": 53,
      "metadata": {
        "id": "71DxTgtM_cb8"
      },
      "outputs": [],
      "source": [
        "def test(epoch,validloader):\n",
        "    global best_acc\n",
        "    net.eval()\n",
        "    test_loss = 0\n",
        "    correct = 0\n",
        "    total = 0\n",
        "    with torch.no_grad():\n",
        "        loop = tqdm(enumerate(validloader), total=len(validloader))\n",
        "        for batch_idx, (inputs, targets) in loop:\n",
        "            inputs, targets = inputs.to(device), targets.to(device)\n",
        "            outputs = net(inputs)\n",
        "            loss = criterion(outputs, targets)\n",
        "            test_loss += loss.item()\n",
        "            _, predicted = outputs.max(1)\n",
        "            total += targets.size(0)\n",
        "            correct += predicted.eq(targets).sum().item()\n",
        "            loop.set_postfix(acc=correct/total)\n",
        "    # Save checkpoint.\n",
        "    acc = 100.*correct/total\n",
        "    if acc > best_acc:\n",
        "        print('Saving..')\n",
        "        state = {\n",
        "            'net': net.state_dict(),\n",
        "            'acc': acc,\n",
        "            'epoch': epoch,\n",
        "        }\n",
        "        if not os.path.isdir('checkpoint'):\n",
        "            os.mkdir('checkpoint')\n",
        "        torch.save(state, './checkpoint/ckpt.t7')\n",
        "        best_acc = acc\n",
        "\n",
        "best_acc = 0       "
      ]
    },
    {
      "cell_type": "code",
      "execution_count": 54,
      "metadata": {
        "colab": {
          "base_uri": "https://localhost:8080/"
        },
        "execution": {
          "iopub.execute_input": "2022-05-04T15:09:25.607452Z",
          "iopub.status.busy": "2022-05-04T15:09:25.606266Z",
          "iopub.status.idle": "2022-05-04T15:09:36.292774Z",
          "shell.execute_reply": "2022-05-04T15:09:36.290845Z",
          "shell.execute_reply.started": "2022-05-04T15:09:25.607386Z"
        },
        "id": "2bu39OFRn9-3",
        "outputId": "0ac18f64-f93c-49b6-a844-8b0cca22d49e",
        "trusted": true
      },
      "outputs": [
        {
          "name": "stderr",
          "output_type": "stream",
          "text": [
            "Epoch [0]: 100%|██████████| 14/14 [02:17<00:00,  9.81s/it, acc=0.322]\n",
            "100%|██████████| 11/11 [00:25<00:00,  2.30s/it, acc=0.333]\n",
            "  0%|          | 0/14 [00:00<?, ?it/s]"
          ]
        },
        {
          "name": "stdout",
          "output_type": "stream",
          "text": [
            "Saving..\n"
          ]
        },
        {
          "name": "stderr",
          "output_type": "stream",
          "text": [
            "Epoch [1]: 100%|██████████| 14/14 [02:16<00:00,  9.75s/it, acc=0.438]\n",
            "100%|██████████| 11/11 [00:23<00:00,  2.17s/it, acc=0.333]\n",
            "Epoch [2]: 100%|██████████| 14/14 [02:15<00:00,  9.65s/it, acc=0.466]\n",
            "100%|██████████| 11/11 [00:23<00:00,  2.09s/it, acc=0.333]\n",
            "Epoch [3]: 100%|██████████| 14/14 [02:20<00:00, 10.05s/it, acc=0.566]\n",
            "100%|██████████| 11/11 [00:26<00:00,  2.39s/it, acc=0.333]\n",
            "Epoch [4]: 100%|██████████| 14/14 [02:01<00:00,  8.66s/it, acc=0.534]\n",
            "100%|██████████| 11/11 [00:21<00:00,  1.96s/it, acc=0.333]\n",
            "Epoch [5]: 100%|██████████| 14/14 [01:59<00:00,  8.55s/it, acc=0.548]\n",
            "100%|██████████| 11/11 [00:20<00:00,  1.88s/it, acc=0.333]\n",
            "Epoch [6]: 100%|██████████| 14/14 [02:00<00:00,  8.59s/it, acc=0.576]\n",
            "100%|██████████| 11/11 [00:20<00:00,  1.89s/it, acc=0.345]\n",
            "  0%|          | 0/14 [00:00<?, ?it/s]"
          ]
        },
        {
          "name": "stdout",
          "output_type": "stream",
          "text": [
            "Saving..\n"
          ]
        },
        {
          "name": "stderr",
          "output_type": "stream",
          "text": [
            "Epoch [7]: 100%|██████████| 14/14 [01:59<00:00,  8.52s/it, acc=0.573]\n",
            "100%|██████████| 11/11 [00:21<00:00,  1.91s/it, acc=0.304]\n",
            "Epoch [8]: 100%|██████████| 14/14 [02:07<00:00,  9.08s/it, acc=0.543]\n",
            "100%|██████████| 11/11 [00:20<00:00,  1.88s/it, acc=0.321]\n",
            "Epoch [9]: 100%|██████████| 14/14 [01:59<00:00,  8.56s/it, acc=0.552]\n",
            "100%|██████████| 11/11 [00:20<00:00,  1.88s/it, acc=0.393]\n",
            "  0%|          | 0/14 [00:00<?, ?it/s]"
          ]
        },
        {
          "name": "stdout",
          "output_type": "stream",
          "text": [
            "Saving..\n"
          ]
        },
        {
          "name": "stderr",
          "output_type": "stream",
          "text": [
            "Epoch [10]: 100%|██████████| 14/14 [02:01<00:00,  8.70s/it, acc=0.559]\n",
            "100%|██████████| 11/11 [00:21<00:00,  1.94s/it, acc=0.387]\n",
            "Epoch [11]: 100%|██████████| 14/14 [02:03<00:00,  8.81s/it, acc=0.562]\n",
            "100%|██████████| 11/11 [00:20<00:00,  1.87s/it, acc=0.363]\n",
            "Epoch [12]: 100%|██████████| 14/14 [02:06<00:00,  9.06s/it, acc=0.557]\n",
            "100%|██████████| 11/11 [00:21<00:00,  1.92s/it, acc=0.405]\n",
            "  0%|          | 0/14 [00:00<?, ?it/s]"
          ]
        },
        {
          "name": "stdout",
          "output_type": "stream",
          "text": [
            "Saving..\n"
          ]
        },
        {
          "name": "stderr",
          "output_type": "stream",
          "text": [
            "Epoch [13]: 100%|██████████| 14/14 [02:11<00:00,  9.36s/it, acc=0.566]\n",
            "100%|██████████| 11/11 [00:21<00:00,  1.93s/it, acc=0.339]\n",
            "Epoch [14]: 100%|██████████| 14/14 [02:03<00:00,  8.82s/it, acc=0.571]\n",
            "100%|██████████| 11/11 [00:20<00:00,  1.91s/it, acc=0.381]\n",
            "Epoch [15]: 100%|██████████| 14/14 [02:02<00:00,  8.76s/it, acc=0.569]\n",
            "100%|██████████| 11/11 [00:20<00:00,  1.91s/it, acc=0.345]\n",
            "Epoch [16]: 100%|██████████| 14/14 [02:06<00:00,  9.05s/it, acc=0.555]\n",
            "100%|██████████| 11/11 [00:21<00:00,  1.92s/it, acc=0.381]\n",
            "Epoch [17]: 100%|██████████| 14/14 [02:01<00:00,  8.67s/it, acc=0.562]\n",
            "100%|██████████| 11/11 [00:20<00:00,  1.90s/it, acc=0.351]\n",
            "Epoch [18]: 100%|██████████| 14/14 [02:02<00:00,  8.75s/it, acc=0.569]\n",
            "100%|██████████| 11/11 [00:20<00:00,  1.88s/it, acc=0.375]\n",
            "Epoch [19]: 100%|██████████| 14/14 [02:00<00:00,  8.62s/it, acc=0.562]\n",
            "100%|██████████| 11/11 [00:20<00:00,  1.89s/it, acc=0.357]\n",
            "Epoch [20]: 100%|██████████| 14/14 [02:04<00:00,  8.91s/it, acc=0.562]\n",
            "100%|██████████| 11/11 [00:20<00:00,  1.91s/it, acc=0.375]\n",
            "Epoch [21]: 100%|██████████| 14/14 [01:57<00:00,  8.40s/it, acc=0.569]\n",
            "100%|██████████| 11/11 [00:20<00:00,  1.88s/it, acc=0.369]\n",
            "Epoch [22]: 100%|██████████| 14/14 [02:00<00:00,  8.57s/it, acc=0.58] \n",
            "100%|██████████| 11/11 [00:21<00:00,  1.92s/it, acc=0.363]\n",
            "Epoch [23]: 100%|██████████| 14/14 [02:00<00:00,  8.61s/it, acc=0.562]\n",
            "100%|██████████| 11/11 [00:21<00:00,  1.92s/it, acc=0.339]\n",
            "Epoch [24]: 100%|██████████| 14/14 [02:01<00:00,  8.70s/it, acc=0.571]\n",
            "100%|██████████| 11/11 [00:22<00:00,  2.04s/it, acc=0.363]\n",
            "Epoch [25]: 100%|██████████| 14/14 [01:58<00:00,  8.48s/it, acc=0.559]\n",
            "100%|██████████| 11/11 [00:20<00:00,  1.91s/it, acc=0.327]\n",
            "Epoch [26]: 100%|██████████| 14/14 [01:58<00:00,  8.45s/it, acc=0.585]\n",
            "100%|██████████| 11/11 [00:21<00:00,  1.92s/it, acc=0.351]\n",
            "Epoch [27]: 100%|██████████| 14/14 [01:57<00:00,  8.41s/it, acc=0.555]\n",
            "100%|██████████| 11/11 [00:20<00:00,  1.90s/it, acc=0.357]\n",
            "Epoch [28]: 100%|██████████| 14/14 [02:09<00:00,  9.24s/it, acc=0.55] \n",
            "100%|██████████| 11/11 [00:28<00:00,  2.62s/it, acc=0.375]\n",
            "Epoch [29]: 100%|██████████| 14/14 [02:27<00:00, 10.50s/it, acc=0.578]\n",
            "100%|██████████| 11/11 [00:26<00:00,  2.39s/it, acc=0.345]\n"
          ]
        }
      ],
      "source": [
        "# Testing \n",
        "for epoch in range(0, 30):\n",
        "    train(epoch,train_loader)\n",
        "    test(epoch,val_loader)\n",
        "    lr_sc.step()"
      ]
    },
    {
      "cell_type": "markdown",
      "metadata": {
        "id": "a6_QG9zZMzn4"
      },
      "source": [
        "# Transfer learning"
      ]
    },
    {
      "cell_type": "code",
      "execution_count": 1,
      "metadata": {
        "id": "qYvxpDr5SUPV"
      },
      "outputs": [],
      "source": [
        "import torch\n",
        "import torch.nn as nn\n",
        "import torch.optim as optim\n",
        "from torch.optim import lr_scheduler\n",
        "import numpy as np\n",
        "import torchvision\n",
        "from torchvision import datasets, models, transforms\n",
        "import matplotlib.pyplot as plt\n",
        "import time\n",
        "import os\n",
        "import copy"
      ]
    },
    {
      "cell_type": "code",
      "execution_count": 2,
      "metadata": {
        "id": "ZZdRX6aWSW-D"
      },
      "outputs": [
        {
          "name": "stdout",
          "output_type": "stream",
          "text": [
            "['keira', 'nathalie', 'others']\n"
          ]
        }
      ],
      "source": [
        "mean = np.array([0.5, 0.5, 0.5])\n",
        "std = np.array([0.25, 0.25, 0.25])\n",
        "\n",
        "data_transforms = {\n",
        "    'train': transforms.Compose([\n",
        "        transforms.RandomResizedCrop(224),\n",
        "        transforms.RandomHorizontalFlip(),\n",
        "        transforms.ToTensor(),\n",
        "        transforms.Normalize(mean, std)\n",
        "    ]),\n",
        "    'val': transforms.Compose([\n",
        "        transforms.Resize(256),\n",
        "        transforms.CenterCrop(224),\n",
        "        transforms.ToTensor(),\n",
        "        transforms.Normalize(mean, std)\n",
        "    ]),\n",
        "}\n",
        "\n",
        "data_dir = 'data/'\n",
        "image_datasets = {x: datasets.ImageFolder(os.path.join(data_dir, x),\n",
        "                                          data_transforms[x])\n",
        "                  for x in ['train', 'val']}\n",
        "dataloaders = {x: torch.utils.data.DataLoader(image_datasets[x], batch_size=4,\n",
        "                                             shuffle=True, num_workers=0)\n",
        "              for x in ['train', 'val']}\n",
        "\n",
        "dataset_sizes = {x: len(image_datasets[x]) for x in ['train', 'val']}\n",
        "class_names = image_datasets['train'].classes\n",
        "device = torch.device(\"cuda:0\" if torch.cuda.is_available() else \"cpu\")\n",
        "print(class_names)"
      ]
    },
    {
      "cell_type": "code",
      "execution_count": null,
      "metadata": {
        "id": "b10SsW14S4u1"
      },
      "outputs": [],
      "source": [
        "def train_model(model, criterion, optimizer, scheduler, num_epochs=25):\n",
        "    since = time.time()\n",
        "\n",
        "    best_model_wts = copy.deepcopy(model.state_dict())\n",
        "    best_acc = 0.0\n",
        "\n",
        "    for epoch in range(num_epochs):\n",
        "        print('Epoch {}/{}'.format(epoch, num_epochs - 1))\n",
        "        print('-' * 10)\n",
        "\n",
        "        for phase in ['train', 'val']:\n",
        "            if phase == 'train':\n",
        "                model.train() \n",
        "            else:\n",
        "                model.eval() \n",
        "            running_loss = 0.0\n",
        "            running_corrects = 0\n",
        "\n",
        "            for inputs, labels in dataloaders[phase]:\n",
        "                inputs = inputs.to(device)\n",
        "                labels = labels.to(device)\n",
        "                \n",
        "                with torch.set_grad_enabled(phase == 'train'):\n",
        "                    outputs = model(inputs)\n",
        "                    _, preds = torch.max(outputs, 1)\n",
        "                    loss = criterion(outputs, labels)\n",
        "\n",
        "                    if phase == 'train':\n",
        "                        optimizer.zero_grad()\n",
        "                        loss.backward()\n",
        "                        optimizer.step()\n",
        "\n",
        "                running_loss += loss.item() * inputs.size(0)\n",
        "                running_corrects += torch.sum(preds == labels.data)\n",
        "\n",
        "            if phase == 'train':\n",
        "                scheduler.step()\n",
        "\n",
        "            epoch_loss = running_loss / dataset_sizes[phase]\n",
        "            epoch_acc = running_corrects.double() / dataset_sizes[phase]\n",
        "\n",
        "            print('{} Loss: {:.4f} Acc: {:.4f}'.format(\n",
        "                phase, epoch_loss, epoch_acc))\n",
        "\n",
        "            if phase == 'val' and epoch_acc > best_acc:\n",
        "                best_acc = epoch_acc\n",
        "                best_model_wts = copy.deepcopy(model.state_dict())\n",
        "\n",
        "        print()\n",
        "\n",
        "    time_elapsed = time.time() - since\n",
        "    print('Training complete in {:.0f}m {:.0f}s'.format(\n",
        "        time_elapsed // 60, time_elapsed % 60))\n",
        "    print('Best val Acc: {:4f}'.format(best_acc))\n",
        "\n",
        "    # load best model weights\n",
        "    model.load_state_dict(best_model_wts)\n",
        "    return model"
      ]
    },
    {
      "cell_type": "code",
      "execution_count": 67,
      "metadata": {
        "colab": {
          "base_uri": "https://localhost:8080/",
          "height": 498
        },
        "id": "97cp9gTLS-Dt",
        "outputId": "51c65024-0839-4127-c402-ef8cae0487de"
      },
      "outputs": [
        {
          "name": "stdout",
          "output_type": "stream",
          "text": [
            "Epoch 0/29\n",
            "----------\n",
            "train Loss: 1.1389 Acc: 0.3520\n",
            "val Loss: 1.1238 Acc: 0.3869\n",
            "\n",
            "Epoch 1/29\n",
            "----------\n",
            "train Loss: 1.0829 Acc: 0.4009\n",
            "val Loss: 1.1553 Acc: 0.3869\n",
            "\n",
            "Epoch 2/29\n",
            "----------\n",
            "train Loss: 1.0165 Acc: 0.4732\n",
            "val Loss: 1.0383 Acc: 0.4762\n",
            "\n",
            "Epoch 3/29\n",
            "----------\n",
            "train Loss: 0.9898 Acc: 0.5175\n",
            "val Loss: 0.9993 Acc: 0.5000\n",
            "\n",
            "Epoch 4/29\n",
            "----------\n",
            "train Loss: 0.9786 Acc: 0.5315\n",
            "val Loss: 0.9960 Acc: 0.4702\n",
            "\n",
            "Epoch 5/29\n",
            "----------\n",
            "train Loss: 0.9442 Acc: 0.5478\n",
            "val Loss: 0.9684 Acc: 0.5357\n",
            "\n",
            "Epoch 6/29\n",
            "----------\n",
            "train Loss: 0.8880 Acc: 0.5828\n",
            "val Loss: 0.9654 Acc: 0.5357\n",
            "\n",
            "Epoch 7/29\n",
            "----------\n",
            "train Loss: 0.8638 Acc: 0.6294\n",
            "val Loss: 0.9250 Acc: 0.5417\n",
            "\n",
            "Epoch 8/29\n",
            "----------\n",
            "train Loss: 0.8370 Acc: 0.6573\n",
            "val Loss: 0.9056 Acc: 0.5774\n",
            "\n",
            "Epoch 9/29\n",
            "----------\n",
            "train Loss: 0.8406 Acc: 0.6480\n",
            "val Loss: 0.8913 Acc: 0.5595\n",
            "\n",
            "Epoch 10/29\n",
            "----------\n",
            "train Loss: 0.8412 Acc: 0.6503\n",
            "val Loss: 0.8984 Acc: 0.5655\n",
            "\n",
            "Epoch 11/29\n",
            "----------\n",
            "train Loss: 0.8393 Acc: 0.6107\n",
            "val Loss: 0.8969 Acc: 0.5476\n",
            "\n",
            "Epoch 12/29\n",
            "----------\n",
            "train Loss: 0.8500 Acc: 0.6317\n",
            "val Loss: 0.9017 Acc: 0.5476\n",
            "\n",
            "Epoch 13/29\n",
            "----------\n",
            "train Loss: 0.8249 Acc: 0.6434\n",
            "val Loss: 0.9077 Acc: 0.5655\n",
            "\n",
            "Epoch 14/29\n",
            "----------\n",
            "train Loss: 0.8369 Acc: 0.6457\n",
            "val Loss: 0.8801 Acc: 0.5714\n",
            "\n",
            "Epoch 15/29\n",
            "----------\n",
            "train Loss: 0.8324 Acc: 0.6387\n",
            "val Loss: 0.8966 Acc: 0.5595\n",
            "\n",
            "Epoch 16/29\n",
            "----------\n",
            "train Loss: 0.8285 Acc: 0.6410\n",
            "val Loss: 0.9013 Acc: 0.6071\n",
            "\n",
            "Epoch 17/29\n",
            "----------\n",
            "train Loss: 0.8125 Acc: 0.6550\n",
            "val Loss: 0.9029 Acc: 0.5476\n",
            "\n",
            "Epoch 18/29\n",
            "----------\n",
            "train Loss: 0.8254 Acc: 0.6317\n",
            "val Loss: 0.9147 Acc: 0.5714\n",
            "\n",
            "Epoch 19/29\n",
            "----------\n",
            "train Loss: 0.8607 Acc: 0.6200\n",
            "val Loss: 0.8945 Acc: 0.5655\n",
            "\n",
            "Epoch 20/29\n",
            "----------\n",
            "train Loss: 0.8074 Acc: 0.6597\n",
            "val Loss: 0.8999 Acc: 0.5595\n",
            "\n",
            "Epoch 21/29\n",
            "----------\n",
            "train Loss: 0.8447 Acc: 0.6573\n",
            "val Loss: 0.8882 Acc: 0.5714\n",
            "\n",
            "Epoch 22/29\n",
            "----------\n",
            "train Loss: 0.8170 Acc: 0.6690\n",
            "val Loss: 0.8901 Acc: 0.5774\n",
            "\n",
            "Epoch 23/29\n",
            "----------\n",
            "train Loss: 0.8051 Acc: 0.6760\n",
            "val Loss: 0.8993 Acc: 0.5952\n",
            "\n",
            "Epoch 24/29\n",
            "----------\n",
            "train Loss: 0.8398 Acc: 0.5944\n",
            "val Loss: 0.8965 Acc: 0.5476\n",
            "\n",
            "Epoch 25/29\n",
            "----------\n",
            "train Loss: 0.8410 Acc: 0.6410\n",
            "val Loss: 0.8884 Acc: 0.5655\n",
            "\n",
            "Epoch 26/29\n",
            "----------\n",
            "train Loss: 0.8369 Acc: 0.6387\n",
            "val Loss: 0.8999 Acc: 0.5893\n",
            "\n",
            "Epoch 27/29\n",
            "----------\n",
            "train Loss: 0.8065 Acc: 0.6527\n",
            "val Loss: 0.9015 Acc: 0.5774\n",
            "\n",
            "Epoch 28/29\n",
            "----------\n",
            "train Loss: 0.8038 Acc: 0.6690\n",
            "val Loss: 0.8866 Acc: 0.5714\n",
            "\n",
            "Epoch 29/29\n",
            "----------\n",
            "train Loss: 0.8341 Acc: 0.6387\n",
            "val Loss: 0.9113 Acc: 0.5595\n",
            "\n",
            "Training complete in 38m 46s\n",
            "Best val Acc: 0.607143\n"
          ]
        }
      ],
      "source": [
        "model = models.resnet18(pretrained=True)\n",
        "num_ftrs = model.fc.in_features\n",
        "model.fc = nn.Linear(num_ftrs, len(class_names))\n",
        "\n",
        "model = model.to(device)\n",
        "\n",
        "criterion = nn.CrossEntropyLoss()\n",
        "\n",
        "optimizer = optim.SGD(model.parameters(), lr=0.001)\n",
        "\n",
        "step_lr_scheduler = lr_scheduler.StepLR(optimizer, step_size=7, gamma=0.1)\n",
        "\n",
        "model = train_model(model, criterion, optimizer, step_lr_scheduler, num_epochs=30)"
      ]
    }
  ],
  "metadata": {
    "accelerator": "GPU",
    "colab": {
      "name": "classProject.ipynb",
      "provenance": []
    },
    "gpuClass": "standard",
    "kernelspec": {
      "display_name": "Python 3.8.8 ('base')",
      "language": "python",
      "name": "python3"
    },
    "language_info": {
      "codemirror_mode": {
        "name": "ipython",
        "version": 3
      },
      "file_extension": ".py",
      "mimetype": "text/x-python",
      "name": "python",
      "nbconvert_exporter": "python",
      "pygments_lexer": "ipython3",
      "version": "3.8.8"
    },
    "vscode": {
      "interpreter": {
        "hash": "c68cb00b8f86c741807e8ce8dcd8d0cfb3582e9e0e8fb321ae1b28fc8719db20"
      }
    },
    "widgets": {
      "application/vnd.jupyter.widget-state+json": {
        "208ddb1926f84b769f5cf209dbad444a": {
          "model_module": "@jupyter-widgets/base",
          "model_module_version": "1.2.0",
          "model_name": "LayoutModel",
          "state": {
            "_model_module": "@jupyter-widgets/base",
            "_model_module_version": "1.2.0",
            "_model_name": "LayoutModel",
            "_view_count": null,
            "_view_module": "@jupyter-widgets/base",
            "_view_module_version": "1.2.0",
            "_view_name": "LayoutView",
            "align_content": null,
            "align_items": null,
            "align_self": null,
            "border": null,
            "bottom": null,
            "display": null,
            "flex": null,
            "flex_flow": null,
            "grid_area": null,
            "grid_auto_columns": null,
            "grid_auto_flow": null,
            "grid_auto_rows": null,
            "grid_column": null,
            "grid_gap": null,
            "grid_row": null,
            "grid_template_areas": null,
            "grid_template_columns": null,
            "grid_template_rows": null,
            "height": null,
            "justify_content": null,
            "justify_items": null,
            "left": null,
            "margin": null,
            "max_height": null,
            "max_width": null,
            "min_height": null,
            "min_width": null,
            "object_fit": null,
            "object_position": null,
            "order": null,
            "overflow": null,
            "overflow_x": null,
            "overflow_y": null,
            "padding": null,
            "right": null,
            "top": null,
            "visibility": null,
            "width": null
          }
        },
        "44edc91da3c14668b9ff14f250356241": {
          "model_module": "@jupyter-widgets/controls",
          "model_module_version": "1.5.0",
          "model_name": "DescriptionStyleModel",
          "state": {
            "_model_module": "@jupyter-widgets/controls",
            "_model_module_version": "1.5.0",
            "_model_name": "DescriptionStyleModel",
            "_view_count": null,
            "_view_module": "@jupyter-widgets/base",
            "_view_module_version": "1.2.0",
            "_view_name": "StyleView",
            "description_width": ""
          }
        },
        "8c9ffe979d524cc2b51a8dbd1718dd49": {
          "model_module": "@jupyter-widgets/base",
          "model_module_version": "1.2.0",
          "model_name": "LayoutModel",
          "state": {
            "_model_module": "@jupyter-widgets/base",
            "_model_module_version": "1.2.0",
            "_model_name": "LayoutModel",
            "_view_count": null,
            "_view_module": "@jupyter-widgets/base",
            "_view_module_version": "1.2.0",
            "_view_name": "LayoutView",
            "align_content": null,
            "align_items": null,
            "align_self": null,
            "border": null,
            "bottom": null,
            "display": null,
            "flex": null,
            "flex_flow": null,
            "grid_area": null,
            "grid_auto_columns": null,
            "grid_auto_flow": null,
            "grid_auto_rows": null,
            "grid_column": null,
            "grid_gap": null,
            "grid_row": null,
            "grid_template_areas": null,
            "grid_template_columns": null,
            "grid_template_rows": null,
            "height": null,
            "justify_content": null,
            "justify_items": null,
            "left": null,
            "margin": null,
            "max_height": null,
            "max_width": null,
            "min_height": null,
            "min_width": null,
            "object_fit": null,
            "object_position": null,
            "order": null,
            "overflow": null,
            "overflow_x": null,
            "overflow_y": null,
            "padding": null,
            "right": null,
            "top": null,
            "visibility": null,
            "width": null
          }
        },
        "9c13d15faa90471ea24c7f71d173dfe5": {
          "model_module": "@jupyter-widgets/controls",
          "model_module_version": "1.5.0",
          "model_name": "HTMLModel",
          "state": {
            "_dom_classes": [],
            "_model_module": "@jupyter-widgets/controls",
            "_model_module_version": "1.5.0",
            "_model_name": "HTMLModel",
            "_view_count": null,
            "_view_module": "@jupyter-widgets/controls",
            "_view_module_version": "1.5.0",
            "_view_name": "HTMLView",
            "description": "",
            "description_tooltip": null,
            "layout": "IPY_MODEL_e8ca7e9198974a0fbc462e0f3829ae44",
            "placeholder": "​",
            "style": "IPY_MODEL_ab4bb57a79e849a6a153e1d75d501bb3",
            "value": "100%"
          }
        },
        "9e5b0bbc3ea04ea492f48258df09cada": {
          "model_module": "@jupyter-widgets/controls",
          "model_module_version": "1.5.0",
          "model_name": "HBoxModel",
          "state": {
            "_dom_classes": [],
            "_model_module": "@jupyter-widgets/controls",
            "_model_module_version": "1.5.0",
            "_model_name": "HBoxModel",
            "_view_count": null,
            "_view_module": "@jupyter-widgets/controls",
            "_view_module_version": "1.5.0",
            "_view_name": "HBoxView",
            "box_style": "",
            "children": [
              "IPY_MODEL_9c13d15faa90471ea24c7f71d173dfe5",
              "IPY_MODEL_c121da2479bc4b63b5ee3c73d0bdf79c",
              "IPY_MODEL_a0a861695ebc4a88bef828a8256c1104"
            ],
            "layout": "IPY_MODEL_208ddb1926f84b769f5cf209dbad444a"
          }
        },
        "a0a861695ebc4a88bef828a8256c1104": {
          "model_module": "@jupyter-widgets/controls",
          "model_module_version": "1.5.0",
          "model_name": "HTMLModel",
          "state": {
            "_dom_classes": [],
            "_model_module": "@jupyter-widgets/controls",
            "_model_module_version": "1.5.0",
            "_model_name": "HTMLModel",
            "_view_count": null,
            "_view_module": "@jupyter-widgets/controls",
            "_view_module_version": "1.5.0",
            "_view_name": "HTMLView",
            "description": "",
            "description_tooltip": null,
            "layout": "IPY_MODEL_e10d691f5fa646caaf4dcdb140c5b6bf",
            "placeholder": "​",
            "style": "IPY_MODEL_44edc91da3c14668b9ff14f250356241",
            "value": " 44.7M/44.7M [00:00&lt;00:00, 149MB/s]"
          }
        },
        "ab4bb57a79e849a6a153e1d75d501bb3": {
          "model_module": "@jupyter-widgets/controls",
          "model_module_version": "1.5.0",
          "model_name": "DescriptionStyleModel",
          "state": {
            "_model_module": "@jupyter-widgets/controls",
            "_model_module_version": "1.5.0",
            "_model_name": "DescriptionStyleModel",
            "_view_count": null,
            "_view_module": "@jupyter-widgets/base",
            "_view_module_version": "1.2.0",
            "_view_name": "StyleView",
            "description_width": ""
          }
        },
        "c121da2479bc4b63b5ee3c73d0bdf79c": {
          "model_module": "@jupyter-widgets/controls",
          "model_module_version": "1.5.0",
          "model_name": "FloatProgressModel",
          "state": {
            "_dom_classes": [],
            "_model_module": "@jupyter-widgets/controls",
            "_model_module_version": "1.5.0",
            "_model_name": "FloatProgressModel",
            "_view_count": null,
            "_view_module": "@jupyter-widgets/controls",
            "_view_module_version": "1.5.0",
            "_view_name": "ProgressView",
            "bar_style": "success",
            "description": "",
            "description_tooltip": null,
            "layout": "IPY_MODEL_8c9ffe979d524cc2b51a8dbd1718dd49",
            "max": 46830571,
            "min": 0,
            "orientation": "horizontal",
            "style": "IPY_MODEL_e16f147e21c343c2a26f70641ed791c7",
            "value": 46830571
          }
        },
        "e10d691f5fa646caaf4dcdb140c5b6bf": {
          "model_module": "@jupyter-widgets/base",
          "model_module_version": "1.2.0",
          "model_name": "LayoutModel",
          "state": {
            "_model_module": "@jupyter-widgets/base",
            "_model_module_version": "1.2.0",
            "_model_name": "LayoutModel",
            "_view_count": null,
            "_view_module": "@jupyter-widgets/base",
            "_view_module_version": "1.2.0",
            "_view_name": "LayoutView",
            "align_content": null,
            "align_items": null,
            "align_self": null,
            "border": null,
            "bottom": null,
            "display": null,
            "flex": null,
            "flex_flow": null,
            "grid_area": null,
            "grid_auto_columns": null,
            "grid_auto_flow": null,
            "grid_auto_rows": null,
            "grid_column": null,
            "grid_gap": null,
            "grid_row": null,
            "grid_template_areas": null,
            "grid_template_columns": null,
            "grid_template_rows": null,
            "height": null,
            "justify_content": null,
            "justify_items": null,
            "left": null,
            "margin": null,
            "max_height": null,
            "max_width": null,
            "min_height": null,
            "min_width": null,
            "object_fit": null,
            "object_position": null,
            "order": null,
            "overflow": null,
            "overflow_x": null,
            "overflow_y": null,
            "padding": null,
            "right": null,
            "top": null,
            "visibility": null,
            "width": null
          }
        },
        "e16f147e21c343c2a26f70641ed791c7": {
          "model_module": "@jupyter-widgets/controls",
          "model_module_version": "1.5.0",
          "model_name": "ProgressStyleModel",
          "state": {
            "_model_module": "@jupyter-widgets/controls",
            "_model_module_version": "1.5.0",
            "_model_name": "ProgressStyleModel",
            "_view_count": null,
            "_view_module": "@jupyter-widgets/base",
            "_view_module_version": "1.2.0",
            "_view_name": "StyleView",
            "bar_color": null,
            "description_width": ""
          }
        },
        "e8ca7e9198974a0fbc462e0f3829ae44": {
          "model_module": "@jupyter-widgets/base",
          "model_module_version": "1.2.0",
          "model_name": "LayoutModel",
          "state": {
            "_model_module": "@jupyter-widgets/base",
            "_model_module_version": "1.2.0",
            "_model_name": "LayoutModel",
            "_view_count": null,
            "_view_module": "@jupyter-widgets/base",
            "_view_module_version": "1.2.0",
            "_view_name": "LayoutView",
            "align_content": null,
            "align_items": null,
            "align_self": null,
            "border": null,
            "bottom": null,
            "display": null,
            "flex": null,
            "flex_flow": null,
            "grid_area": null,
            "grid_auto_columns": null,
            "grid_auto_flow": null,
            "grid_auto_rows": null,
            "grid_column": null,
            "grid_gap": null,
            "grid_row": null,
            "grid_template_areas": null,
            "grid_template_columns": null,
            "grid_template_rows": null,
            "height": null,
            "justify_content": null,
            "justify_items": null,
            "left": null,
            "margin": null,
            "max_height": null,
            "max_width": null,
            "min_height": null,
            "min_width": null,
            "object_fit": null,
            "object_position": null,
            "order": null,
            "overflow": null,
            "overflow_x": null,
            "overflow_y": null,
            "padding": null,
            "right": null,
            "top": null,
            "visibility": null,
            "width": null
          }
        }
      }
    }
  },
  "nbformat": 4,
  "nbformat_minor": 0
}
